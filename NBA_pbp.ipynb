{
 "cells": [
  {
   "cell_type": "code",
   "execution_count": 2,
   "metadata": {},
   "outputs": [
    {
     "name": "stdout",
     "output_type": "stream",
     "text": [
      "Collecting pyspark\n",
      "  Downloading pyspark-3.4.1.tar.gz (310.8 MB)\n",
      "Collecting py4j==0.10.9.7\n",
      "  Downloading py4j-0.10.9.7-py2.py3-none-any.whl (200 kB)\n",
      "Building wheels for collected packages: pyspark\n",
      "  Building wheel for pyspark (setup.py): started\n",
      "  Building wheel for pyspark (setup.py): finished with status 'done'\n",
      "  Created wheel for pyspark: filename=pyspark-3.4.1-py2.py3-none-any.whl size=311285412 sha256=0834a3a9426e54ab475f36fe6fb137fa32602cef3dbbfc6040a79458616a9c36\n",
      "  Stored in directory: c:\\users\\favour\\appdata\\local\\pip\\cache\\wheels\\07\\9f\\04\\fc2c478c8c87334f0ff48e86fa7d8c2a814f9df5dc21d79b7e\n",
      "Successfully built pyspark\n",
      "Installing collected packages: py4j, pyspark\n",
      "Successfully installed py4j-0.10.9.7 pyspark-3.4.1\n",
      "Note: you may need to restart the kernel to use updated packages.\n"
     ]
    }
   ],
   "source": [
    "%pip install pyspark"
   ]
  },
  {
   "cell_type": "code",
   "execution_count": 1,
   "metadata": {},
   "outputs": [],
   "source": [
    "from pyspark.sql import SparkSession"
   ]
  },
  {
   "cell_type": "code",
   "execution_count": 3,
   "metadata": {},
   "outputs": [],
   "source": [
    "spark = SparkSession.builder.appName(\"NBA Project\").getOrCreate()"
   ]
  },
  {
   "cell_type": "code",
   "execution_count": 4,
   "metadata": {},
   "outputs": [
    {
     "name": "stdout",
     "output_type": "stream",
     "text": [
      "+-------+------------+----------+------+----------+-------+--------+---------+--------------------+--------+---------+--------------------+------+-------+------+-------+--------------------+---------+---------+---------+---------+---------+--------+---------+---------+---------+---------+\n",
      "|PlayNum|      GameID|      Date|Period|Possession|   Time|AwayName|AwayScore|           AwayEvent|HomeName|HomeScore|           HomeEvent|AwayIn|AwayOut|HomeIn|HomeOut|       ActivePlayers|       A1|       A2|       A3|       A4|       A5|      H1|       H2|       H3|       H4|       H5|\n",
      "+-------+------------+----------+------+----------+-------+--------+---------+--------------------+--------+---------+--------------------+------+-------+------+-------+--------------------+---------+---------+---------+---------+---------+--------+---------+---------+---------+---------+\n",
      "|      0|201011240MIN|11/24/2010|     1|       0.0|12:00.0|     SAS|        0|Start of 1st quarter|     MIN|        0|Start of 1st quarter|  null|   null|  null|   null|                  []|blairde01|jefferi01|parketo01|duncati01|ginobma01|loveke01|johnswe01|milicda01|ridnolu01|beaslmi01|\n",
      "|      1|201011240MIN|11/24/2010|     1|       0.0|12:00.0|     SAS|        0|Jump ball: D. Mil...|     MIN|        0|Jump ball: D. Mil...|  null|   null|  null|   null|                  []|blairde01|jefferi01|parketo01|duncati01|ginobma01|loveke01|johnswe01|milicda01|ridnolu01|beaslmi01|\n",
      "|      2|201011240MIN|11/24/2010|     1|       1.0|11:44.0|     SAS|        0|                null|     MIN|        2|M. Beasley makes ...|  null|   null|  null|   null|       ['beaslmi01']|blairde01|jefferi01|parketo01|duncati01|ginobma01|loveke01|johnswe01|milicda01|ridnolu01|beaslmi01|\n",
      "|      3|201011240MIN|11/24/2010|     1|       2.0|11:30.0|     SAS|        2|R. Jefferson make...|     MIN|        2|                null|  null|   null|  null|   null|['jefferi01', 'du...|blairde01|jefferi01|parketo01|duncati01|ginobma01|loveke01|johnswe01|milicda01|ridnolu01|beaslmi01|\n",
      "|      4|201011240MIN|11/24/2010|     1|       3.0|11:11.0|     SAS|        2|                null|     MIN|        2|M. Beasley misses...|  null|   null|  null|   null|       ['beaslmi01']|blairde01|jefferi01|parketo01|duncati01|ginobma01|loveke01|johnswe01|milicda01|ridnolu01|beaslmi01|\n",
      "|      5|201011240MIN|11/24/2010|     1|       4.0|11:10.0|     SAS|        2|Defensive rebound...|     MIN|        2|                null|  null|   null|  null|   null|       ['parketo01']|blairde01|jefferi01|parketo01|duncati01|ginobma01|loveke01|johnswe01|milicda01|ridnolu01|beaslmi01|\n",
      "|      6|201011240MIN|11/24/2010|     1|       4.0|10:53.0|     SAS|        2|Offensive foul by...|     MIN|        2|                null|  null|   null|  null|   null|['duncati01', 'ri...|blairde01|jefferi01|parketo01|duncati01|ginobma01|loveke01|johnswe01|milicda01|ridnolu01|beaslmi01|\n",
      "|      7|201011240MIN|11/24/2010|     1|       4.0|10:53.0|     SAS|        2|Turnover by T. Du...|     MIN|        2|                null|  null|   null|  null|   null|       ['duncati01']|blairde01|jefferi01|parketo01|duncati01|ginobma01|loveke01|johnswe01|milicda01|ridnolu01|beaslmi01|\n",
      "|      8|201011240MIN|11/24/2010|     1|       5.0|10:42.0|     SAS|        2|                null|     MIN|        4|D. Miličić makes ...|  null|   null|  null|   null|['milicda01', 'lo...|blairde01|jefferi01|parketo01|duncati01|ginobma01|loveke01|johnswe01|milicda01|ridnolu01|beaslmi01|\n",
      "|      9|201011240MIN|11/24/2010|     1|       6.0|10:28.0|     SAS|        4|R. Jefferson make...|     MIN|        4|                null|  null|   null|  null|   null|['jefferi01', 'pa...|blairde01|jefferi01|parketo01|duncati01|ginobma01|loveke01|johnswe01|milicda01|ridnolu01|beaslmi01|\n",
      "|     10|201011240MIN|11/24/2010|     1|       7.0|10:19.0|     SAS|        4|                null|     MIN|        4|Shooting foul by ...|  null|   null|  null|   null|['blairde01', 'lo...|blairde01|jefferi01|parketo01|duncati01|ginobma01|loveke01|johnswe01|milicda01|ridnolu01|beaslmi01|\n",
      "|     11|201011240MIN|11/24/2010|     1|       7.0|10:19.0|     SAS|        4|                null|     MIN|        5|K. Love makes fre...|  null|   null|  null|   null|        ['loveke01']|blairde01|jefferi01|parketo01|duncati01|ginobma01|loveke01|johnswe01|milicda01|ridnolu01|beaslmi01|\n",
      "|     12|201011240MIN|11/24/2010|     1|       7.0|10:19.0|     SAS|        4|                null|     MIN|        6|K. Love makes fre...|  null|   null|  null|   null|        ['loveke01']|blairde01|jefferi01|parketo01|duncati01|ginobma01|loveke01|johnswe01|milicda01|ridnolu01|beaslmi01|\n",
      "|     13|201011240MIN|11/24/2010|     1|       8.0|10:00.0|     SAS|        4|T. Duncan misses ...|     MIN|        6|                null|  null|   null|  null|   null|       ['duncati01']|blairde01|jefferi01|parketo01|duncati01|ginobma01|loveke01|johnswe01|milicda01|ridnolu01|beaslmi01|\n",
      "|     14|201011240MIN|11/24/2010|     1|       8.0| 9:59.0|     SAS|        4|Offensive rebound...|     MIN|        6|                null|  null|   null|  null|   null|       ['blairde01']|blairde01|jefferi01|parketo01|duncati01|ginobma01|loveke01|johnswe01|milicda01|ridnolu01|beaslmi01|\n",
      "|     15|201011240MIN|11/24/2010|     1|       8.0| 9:52.0|     SAS|        4|D. Blair misses 2...|     MIN|        6|                null|  null|   null|  null|   null|['blairde01', 'be...|blairde01|jefferi01|parketo01|duncati01|ginobma01|loveke01|johnswe01|milicda01|ridnolu01|beaslmi01|\n",
      "|     16|201011240MIN|11/24/2010|     1|       8.0| 9:51.0|     SAS|        4|Offensive rebound...|     MIN|        6|                null|  null|   null|  null|   null|       ['blairde01']|blairde01|jefferi01|parketo01|duncati01|ginobma01|loveke01|johnswe01|milicda01|ridnolu01|beaslmi01|\n",
      "|     17|201011240MIN|11/24/2010|     1|       8.0| 9:45.0|     SAS|        4|Turnover by D. Bl...|     MIN|        6|                null|  null|   null|  null|   null|       ['blairde01']|blairde01|jefferi01|parketo01|duncati01|ginobma01|loveke01|johnswe01|milicda01|ridnolu01|beaslmi01|\n",
      "|     18|201011240MIN|11/24/2010|     1|       9.0| 9:36.0|     SAS|        4|                null|     MIN|        9|W. Johnson makes ...|  null|   null|  null|   null|['johnswe01', 'ri...|blairde01|jefferi01|parketo01|duncati01|ginobma01|loveke01|johnswe01|milicda01|ridnolu01|beaslmi01|\n",
      "|     19|201011240MIN|11/24/2010|     1|      10.0| 9:28.0|     SAS|        6|T. Duncan makes 2...|     MIN|        9|                null|  null|   null|  null|   null|['duncati01', 'gi...|blairde01|jefferi01|parketo01|duncati01|ginobma01|loveke01|johnswe01|milicda01|ridnolu01|beaslmi01|\n",
      "+-------+------------+----------+------+----------+-------+--------+---------+--------------------+--------+---------+--------------------+------+-------+------+-------+--------------------+---------+---------+---------+---------+---------+--------+---------+---------+---------+---------+\n",
      "only showing top 20 rows\n",
      "\n"
     ]
    }
   ],
   "source": [
    "nba_df = spark.read.csv(\"./NBA_pbp_1999-2022.csv\", header=True)\n",
    "nba_df.show()"
   ]
  },
  {
   "cell_type": "code",
   "execution_count": 12,
   "metadata": {},
   "outputs": [
    {
     "name": "stdout",
     "output_type": "stream",
     "text": [
      "+-------+------------+----------+------+----------+----+--------+--------------------+---------+--------+--------------------+---------+------+-------+------+--------------------+-------------+---------+--------+---------+---------+---------+---------+---------+---------+---------+----+\n",
      "|PlayNum|      GameID|      Date|Period|Possession|Time|AwayName|           AwayScore|AwayEvent|HomeName|           HomeScore|HomeEvent|AwayIn|AwayOut|HomeIn|             HomeOut|ActivePlayers|       A1|      A2|       A3|       A4|       A5|       H1|       H2|       H3|       H4|  H5|\n",
      "+-------+------------+----------+------+----------+----+--------+--------------------+---------+--------+--------------------+---------+------+-------+------+--------------------+-------------+---------+--------+---------+---------+---------+---------+---------+---------+---------+----+\n",
      "|      0|199902050ATL|02/05/1999|     1|   12:00.0| CLE|       0|Start of 1st quarter|      ATL|       0|Start of 1st quarter|     null|  null|   null|  null|                  []|    hendece02|knighbr01|kempsh01|ilgauzy01|persowe01|hendeal01|blaylmo01|ellisla01|mutomdi01|smithst01|null|\n",
      "|      1|199902050ATL|02/05/1999|     1|   12:00.0| CLE|       0|Jump ball: D. Mut...|      ATL|       0|Jump ball: D. Mut...|     null|  null|   null|  null|                  []|    hendece02|knighbr01|kempsh01|ilgauzy01|persowe01|hendeal01|blaylmo01|ellisla01|mutomdi01|smithst01|null|\n",
      "|      2|199902050ATL|02/05/1999|     1|   11:44.0| CLE|       2|S. Kemp makes 2-p...|      ATL|       0|                null|     null|  null|   null|  null|        ['kempsh01']|    hendece02|knighbr01|kempsh01|ilgauzy01|persowe01|hendeal01|blaylmo01|ellisla01|mutomdi01|smithst01|null|\n",
      "|      3|199902050ATL|02/05/1999|     1|   11:28.0| CLE|       2|                null|      ATL|       0|D. Mutombo misses...|     null|  null|   null|  null|       ['mutomdi01']|    hendece02|knighbr01|kempsh01|ilgauzy01|persowe01|hendeal01|blaylmo01|ellisla01|mutomdi01|smithst01|null|\n",
      "|      4|199902050ATL|02/05/1999|     1|   11:24.0| CLE|       2|Defensive rebound...|      ATL|       0|                null|     null|  null|   null|  null|        ['kempsh01']|    hendece02|knighbr01|kempsh01|ilgauzy01|persowe01|hendeal01|blaylmo01|ellisla01|mutomdi01|smithst01|null|\n",
      "|      5|199902050ATL|02/05/1999|     1|   11:20.0| CLE|       2|C. Henderson miss...|      ATL|       0|                null|     null|  null|   null|  null|       ['hendece02']|    hendece02|knighbr01|kempsh01|ilgauzy01|persowe01|hendeal01|blaylmo01|ellisla01|mutomdi01|smithst01|null|\n",
      "|      6|199902050ATL|02/05/1999|     1|   11:10.0| CLE|       2|Offensive rebound...|      ATL|       0|                null|     null|  null|   null|  null|       ['ilgauzy01']|    hendece02|knighbr01|kempsh01|ilgauzy01|persowe01|hendeal01|blaylmo01|ellisla01|mutomdi01|smithst01|null|\n",
      "|      7|199902050ATL|02/05/1999|     1|   11:10.0| CLE|       4|Z. Ilgauskas make...|      ATL|       0|                null|     null|  null|   null|  null|       ['ilgauzy01']|    hendece02|knighbr01|kempsh01|ilgauzy01|persowe01|hendeal01|blaylmo01|ellisla01|mutomdi01|smithst01|null|\n",
      "|      8|199902050ATL|02/05/1999|     1|   10:55.0| CLE|       4|                null|      ATL|       3|M. Blaylock makes...|     null|  null|   null|  null|       ['blaylmo01']|    hendece02|knighbr01|kempsh01|ilgauzy01|persowe01|hendeal01|blaylmo01|ellisla01|mutomdi01|smithst01|null|\n",
      "|      9|199902050ATL|02/05/1999|     1|   10:36.0| CLE|       4|W. Person misses ...|      ATL|       3|                null|     null|  null|   null|  null|       ['persowe01']|    hendece02|knighbr01|kempsh01|ilgauzy01|persowe01|hendeal01|blaylmo01|ellisla01|mutomdi01|smithst01|null|\n",
      "|     10|199902050ATL|02/05/1999|     1|   10:36.0| CLE|       4|                null|      ATL|       3|Defensive rebound...|     null|  null|   null|  null|                  []|    hendece02|knighbr01|kempsh01|ilgauzy01|persowe01|hendeal01|blaylmo01|ellisla01|mutomdi01|smithst01|null|\n",
      "|     11|199902050ATL|02/05/1999|     1|   10:21.0| CLE|       4|                null|      ATL|       3|Personal foul by ...|     null|  null|   null|  null|       ['persowe01']|    hendece02|knighbr01|kempsh01|ilgauzy01|persowe01|hendeal01|blaylmo01|ellisla01|mutomdi01|smithst01|null|\n",
      "|     12|199902050ATL|02/05/1999|     1|   10:12.0| CLE|       4|                null|      ATL|       5|L. Ellis makes 2-...|     null|  null|   null|  null|['ellisla01', 'sm...|    hendece02|knighbr01|kempsh01|ilgauzy01|persowe01|hendeal01|blaylmo01|ellisla01|mutomdi01|smithst01|null|\n",
      "|     13|199902050ATL|02/05/1999|     1|    9:53.0| CLE|       4|Turnover by S. Ke...|      ATL|       5|                null|     null|  null|   null|  null|        ['kempsh01']|    hendece02|knighbr01|kempsh01|ilgauzy01|persowe01|hendeal01|blaylmo01|ellisla01|mutomdi01|smithst01|null|\n",
      "|     14|199902050ATL|02/05/1999|     1|    9:30.0| CLE|       4|                null|      ATL|       5|Turnover by A. He...|     null|  null|   null|  null|['hendeal01', 'pe...|    hendece02|knighbr01|kempsh01|ilgauzy01|persowe01|hendeal01|blaylmo01|ellisla01|mutomdi01|smithst01|null|\n",
      "|     15|199902050ATL|02/05/1999|     1|    9:21.0| CLE|       4|Personal foul by ...|      ATL|       5|                null|     null|  null|   null|  null|       ['smithst01']|    hendece02|knighbr01|kempsh01|ilgauzy01|persowe01|hendeal01|blaylmo01|ellisla01|mutomdi01|smithst01|null|\n",
      "|     16|199902050ATL|02/05/1999|     1|    8:59.0| CLE|       4|S. Kemp misses 2-...|      ATL|       5|                null|     null|  null|   null|  null|        ['kempsh01']|    hendece02|knighbr01|kempsh01|ilgauzy01|persowe01|hendeal01|blaylmo01|ellisla01|mutomdi01|smithst01|null|\n",
      "|     17|199902050ATL|02/05/1999|     1|    8:56.0| CLE|       4|Offensive rebound...|      ATL|       5|                null|     null|  null|   null|  null|       ['ilgauzy01']|    hendece02|knighbr01|kempsh01|ilgauzy01|persowe01|hendeal01|blaylmo01|ellisla01|mutomdi01|smithst01|null|\n",
      "|     18|199902050ATL|02/05/1999|     1|    8:54.0| CLE|       4|                null|      ATL|       5|Violation by D. M...|     null|  null|   null|  null|       ['mutomdi01']|    hendece02|knighbr01|kempsh01|ilgauzy01|persowe01|hendeal01|blaylmo01|ellisla01|mutomdi01|smithst01|null|\n",
      "|     19|199902050ATL|02/05/1999|     1|    8:54.0| CLE|       6|Z. Ilgauskas make...|      ATL|       5|                null|     null|  null|   null|  null|       ['ilgauzy01']|    hendece02|knighbr01|kempsh01|ilgauzy01|persowe01|hendeal01|blaylmo01|ellisla01|mutomdi01|smithst01|null|\n",
      "+-------+------------+----------+------+----------+----+--------+--------------------+---------+--------+--------------------+---------+------+-------+------+--------------------+-------------+---------+--------+---------+---------+---------+---------+---------+---------+---------+----+\n",
      "only showing top 20 rows\n",
      "\n",
      "Number of Play by Play Entries in 1999: 405595\n"
     ]
    }
   ],
   "source": [
    "nba_df.createOrReplaceTempView(\"NBA99\")\n",
    "nba_df_1999 = spark.sql(\"SELECT * FROM NBA99 WHERE (GameID LIKE '1999%')\") #Selects all game play by play from 1999 (GameID starting with 1999)\n",
    "nba_df_1999.show()\n",
    "nba_df_1999count = nba_df_1999.count()\n",
    "print(f\"Number of Play by Play Entries in 1999: {nba_df_1999count}\")"
   ]
  }
 ],
 "metadata": {
  "kernelspec": {
   "display_name": "base",
   "language": "python",
   "name": "python3"
  },
  "language_info": {
   "codemirror_mode": {
    "name": "ipython",
    "version": 3
   },
   "file_extension": ".py",
   "mimetype": "text/x-python",
   "name": "python",
   "nbconvert_exporter": "python",
   "pygments_lexer": "ipython3",
   "version": "3.8.8"
  },
  "orig_nbformat": 4
 },
 "nbformat": 4,
 "nbformat_minor": 2
}
