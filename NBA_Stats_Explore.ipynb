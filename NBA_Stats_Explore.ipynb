{
 "cells": [
  {
   "cell_type": "markdown",
   "metadata": {},
   "source": [
    "# NBA PLAYER STATS: Data Exploration"
   ]
  },
  {
   "cell_type": "markdown",
   "metadata": {},
   "source": [
    "#### Importing necessary modules..."
   ]
  },
  {
   "cell_type": "code",
   "execution_count": 1,
   "metadata": {},
   "outputs": [],
   "source": [
    "import pandas as pd "
   ]
  },
  {
   "cell_type": "markdown",
   "metadata": {},
   "source": [
    "#### Let's take a look at the 2021-2022 Play Stats, starting with the regular season first:"
   ]
  },
  {
   "cell_type": "markdown",
   "metadata": {},
   "source": [
    "The datasets used in notebook were created by, Kaggle user, Vivo Vinco."
   ]
  },
  {
   "cell_type": "code",
   "execution_count": 2,
   "metadata": {},
   "outputs": [
    {
     "name": "stdout",
     "output_type": "stream",
     "text": [
      "      Rk             Player Pos  Age   Tm   G  GS    MP   FG   FGA  ...  \\\n",
      "0      1   Precious Achiuwa   C   22  TOR  73  28  23.6  3.6   8.3  ...   \n",
      "1      2       Steven Adams   C   28  MEM  76  75  26.3  2.8   5.1  ...   \n",
      "2      3        Bam Adebayo   C   24  MIA  56  56  32.6  7.3  13.0  ...   \n",
      "3      4       Santi Aldama  PF   21  MEM  32   0  11.3  1.7   4.1  ...   \n",
      "4      5  LaMarcus Aldridge   C   36  BRK  47  12  22.3  5.4   9.7  ...   \n",
      "..   ...                ...  ..  ...  ...  ..  ..   ...  ...   ...  ...   \n",
      "807  601     Thaddeus Young  PF   33  TOR  26   0  18.3  2.6   5.5  ...   \n",
      "808  602         Trae Young  PG   23  ATL  76  76  34.9  9.4  20.3  ...   \n",
      "809  603     Omer Yurtseven   C   23  MIA  56  12  12.6  2.3   4.4  ...   \n",
      "810  604        Cody Zeller   C   29  POR  27   0  13.1  1.9   3.3  ...   \n",
      "811  605        Ivica Zubac   C   24  LAC  76  76  24.4  4.1   6.5  ...   \n",
      "\n",
      "       FT%  ORB  DRB   TRB  AST  STL  BLK  TOV   PF   PTS  \n",
      "0    0.595  2.0  4.5   6.5  1.1  0.5  0.6  1.2  2.1   9.1  \n",
      "1    0.543  4.6  5.4  10.0  3.4  0.9  0.8  1.5  2.0   6.9  \n",
      "2    0.753  2.4  7.6  10.1  3.4  1.4  0.8  2.6  3.1  19.1  \n",
      "3    0.625  1.0  1.7   2.7  0.7  0.2  0.3  0.5  1.1   4.1  \n",
      "4    0.873  1.6  3.9   5.5  0.9  0.3  1.0  0.9  1.7  12.9  \n",
      "..     ...  ...  ...   ...  ...  ...  ...  ...  ...   ...  \n",
      "807  0.481  1.5  2.9   4.4  1.7  1.2  0.4  0.8  1.7   6.3  \n",
      "808  0.904  0.7  3.1   3.7  9.7  0.9  0.1  4.0  1.7  28.4  \n",
      "809  0.623  1.5  3.7   5.3  0.9  0.3  0.4  0.7  1.5   5.3  \n",
      "810  0.776  1.9  2.8   4.6  0.8  0.3  0.2  0.7  2.1   5.2  \n",
      "811  0.727  2.9  5.6   8.5  1.6  0.5  1.0  1.5  2.7  10.3  \n",
      "\n",
      "[812 rows x 30 columns]\n"
     ]
    }
   ],
   "source": [
    "regular_season_21 = pd.read_csv(\"./2021-2022 NBA Player Stats - Regular.csv\", delimiter=\";\")\n",
    "print(regular_season_21) #To see all: regular_season_21.to_string()"
   ]
  },
  {
   "cell_type": "code",
   "execution_count": 3,
   "metadata": {},
   "outputs": [
    {
     "name": "stdout",
     "output_type": "stream",
     "text": [
      "Index(['Rk', 'Player', 'Pos', 'Age', 'Tm', 'G', 'GS', 'MP', 'FG', 'FGA', 'FG%',\n",
      "       '3P', '3PA', '3P%', '2P', '2PA', '2P%', 'eFG%', 'FT', 'FTA', 'FT%',\n",
      "       'ORB', 'DRB', 'TRB', 'AST', 'STL', 'BLK', 'TOV', 'PF', 'PTS'],\n",
      "      dtype='object')\n"
     ]
    }
   ],
   "source": [
    "print(regular_season_21.columns)"
   ]
  },
  {
   "cell_type": "markdown",
   "metadata": {},
   "source": [
    "#### Let's check if there are any missing values in any of the columns:"
   ]
  },
  {
   "cell_type": "code",
   "execution_count": 4,
   "metadata": {},
   "outputs": [
    {
     "data": {
      "text/plain": [
       "Rk        0\n",
       "Player    0\n",
       "Pos       0\n",
       "Age       0\n",
       "Tm        0\n",
       "G         0\n",
       "GS        0\n",
       "MP        0\n",
       "FG        0\n",
       "FGA       0\n",
       "FG%       0\n",
       "3P        0\n",
       "3PA       0\n",
       "3P%       0\n",
       "2P        0\n",
       "2PA       0\n",
       "2P%       0\n",
       "eFG%      0\n",
       "FT        0\n",
       "FTA       0\n",
       "FT%       0\n",
       "ORB       0\n",
       "DRB       0\n",
       "TRB       0\n",
       "AST       0\n",
       "STL       0\n",
       "BLK       0\n",
       "TOV       0\n",
       "PF        0\n",
       "PTS       0\n",
       "dtype: int64"
      ]
     },
     "execution_count": 4,
     "metadata": {},
     "output_type": "execute_result"
    }
   ],
   "source": [
    "regular_season_21.isna().sum()"
   ]
  },
  {
   "cell_type": "markdown",
   "metadata": {},
   "source": [
    "#### Now let's take a look at the play-off data for 2021-2022:"
   ]
  },
  {
   "cell_type": "code",
   "execution_count": 5,
   "metadata": {},
   "outputs": [
    {
     "name": "stdout",
     "output_type": "stream",
     "text": [
      "      Rk                    Player Pos  Age   Tm   G  GS    MP   FG   FGA  \\\n",
      "0      1          Precious Achiuwa   C   22  TOR   6   1  27.8  4.2   8.7   \n",
      "1      2              Steven Adams   C   28  MEM   7   5  16.3  1.3   3.0   \n",
      "2      3               Bam Adebayo   C   24  MIA  18  18  34.1  5.8   9.7   \n",
      "3      4  Nickeil Alexander-Walker  SG   23  UTA   1   0   5.0  2.0   2.0   \n",
      "4      5             Grayson Allen  SG   26  MIL  12   5  25.4  3.1   6.8   \n",
      "..   ...                       ...  ..  ...  ...  ..  ..   ...  ...   ...   \n",
      "212  213           Ziaire Williams  SF   20  MEM  10   1  16.8  2.3   5.2   \n",
      "213  214              Delon Wright  SG   29  ATL   5   0  27.4  3.0   5.8   \n",
      "214  215            Thaddeus Young  PF   33  TOR   6   0  14.5  1.5   3.0   \n",
      "215  216                Trae Young  PG   23  ATL   5   5  37.2  4.4  13.8   \n",
      "216  217            Omer Yurtseven   C   23  MIA   9   0   4.2  1.3   2.0   \n",
      "\n",
      "     ...    FT%  ORB  DRB  TRB  AST  STL  BLK  TOV   PF   PTS  \n",
      "0    ...  0.600  1.3  3.5  4.8  1.0  0.2  0.8  1.5  2.3  10.2  \n",
      "1    ...  0.545  2.1  4.3  6.4  2.1  0.1  0.1  0.6  1.7   3.4  \n",
      "2    ...  0.763  2.1  5.9  8.0  2.7  1.0  0.7  2.1  3.1  14.8  \n",
      "3    ...  1.000  0.0  1.0  1.0  1.0  1.0  0.0  0.0  0.0   5.0  \n",
      "4    ...  0.636  0.4  2.5  2.9  1.3  0.7  0.3  0.8  1.8   8.3  \n",
      "..   ...    ...  ...  ...  ...  ...  ...  ...  ...  ...   ...  \n",
      "212  ...  0.923  0.4  1.2  1.6  0.5  0.5  0.0  0.2  1.4   6.9  \n",
      "213  ...  0.667  2.2  2.6  4.8  2.8  0.8  0.2  1.0  0.4   8.2  \n",
      "214  ...  0.250  1.2  1.8  3.0  1.7  0.8  0.2  0.5  1.3   3.3  \n",
      "215  ...  0.788  1.0  4.0  5.0  6.0  0.6  0.0  6.2  2.6  15.4  \n",
      "216  ...  0.333  0.1  0.7  0.8  0.3  0.0  0.1  0.0  0.2   2.8  \n",
      "\n",
      "[217 rows x 30 columns]\n"
     ]
    }
   ],
   "source": [
    "playoff_season_21 = pd.read_csv(\"./2021-2022 NBA Player Stats - Playoffs.csv\", delimiter=\";\")\n",
    "print(playoff_season_21) #To see all: playoff_season_21.to_string()"
   ]
  },
  {
   "cell_type": "markdown",
   "metadata": {},
   "source": [
    "#### Let's check if there are any missing values in any of the columns:"
   ]
  },
  {
   "cell_type": "code",
   "execution_count": 6,
   "metadata": {},
   "outputs": [
    {
     "data": {
      "text/plain": [
       "Rk        0\n",
       "Player    0\n",
       "Pos       0\n",
       "Age       0\n",
       "Tm        0\n",
       "G         0\n",
       "GS        0\n",
       "MP        0\n",
       "FG        0\n",
       "FGA       0\n",
       "FG%       0\n",
       "3P        0\n",
       "3PA       0\n",
       "3P%       0\n",
       "2P        0\n",
       "2PA       0\n",
       "2P%       0\n",
       "eFG%      0\n",
       "FT        0\n",
       "FTA       0\n",
       "FT%       0\n",
       "ORB       0\n",
       "DRB       0\n",
       "TRB       0\n",
       "AST       0\n",
       "STL       0\n",
       "BLK       0\n",
       "TOV       0\n",
       "PF        0\n",
       "PTS       0\n",
       "dtype: int64"
      ]
     },
     "execution_count": 6,
     "metadata": {},
     "output_type": "execute_result"
    }
   ],
   "source": [
    "playoff_season_21.isna().sum()"
   ]
  },
  {
   "cell_type": "markdown",
   "metadata": {},
   "source": [
    "#### Top 5 Player With the Most Turnovers per Game:"
   ]
  },
  {
   "cell_type": "code",
   "execution_count": 7,
   "metadata": {},
   "outputs": [
    {
     "data": {
      "text/html": [
       "<div>\n",
       "<style scoped>\n",
       "    .dataframe tbody tr th:only-of-type {\n",
       "        vertical-align: middle;\n",
       "    }\n",
       "\n",
       "    .dataframe tbody tr th {\n",
       "        vertical-align: top;\n",
       "    }\n",
       "\n",
       "    .dataframe thead th {\n",
       "        text-align: right;\n",
       "    }\n",
       "</style>\n",
       "<table border=\"1\" class=\"dataframe\">\n",
       "  <thead>\n",
       "    <tr style=\"text-align: right;\">\n",
       "      <th></th>\n",
       "      <th>Player</th>\n",
       "      <th>TOV</th>\n",
       "    </tr>\n",
       "  </thead>\n",
       "  <tbody>\n",
       "    <tr>\n",
       "      <th>283</th>\n",
       "      <td>James Harden</td>\n",
       "      <td>4.8</td>\n",
       "    </tr>\n",
       "    <tr>\n",
       "      <th>178</th>\n",
       "      <td>Luka Don?i?</td>\n",
       "      <td>4.5</td>\n",
       "    </tr>\n",
       "    <tr>\n",
       "      <th>282</th>\n",
       "      <td>James Harden</td>\n",
       "      <td>4.4</td>\n",
       "    </tr>\n",
       "    <tr>\n",
       "      <th>251</th>\n",
       "      <td>Paul George</td>\n",
       "      <td>4.1</td>\n",
       "    </tr>\n",
       "    <tr>\n",
       "      <th>409</th>\n",
       "      <td>Georgios Kalaitzakis</td>\n",
       "      <td>4.0</td>\n",
       "    </tr>\n",
       "  </tbody>\n",
       "</table>\n",
       "</div>"
      ],
      "text/plain": [
       "                   Player  TOV\n",
       "283          James Harden  4.8\n",
       "178           Luka Don?i?  4.5\n",
       "282          James Harden  4.4\n",
       "251           Paul George  4.1\n",
       "409  Georgios Kalaitzakis  4.0"
      ]
     },
     "execution_count": 7,
     "metadata": {},
     "output_type": "execute_result"
    }
   ],
   "source": [
    "most_TOV = regular_season_21[[\"Player\",\"TOV\"]]\n",
    "most_TOV.nlargest(5,\"TOV\")"
   ]
  },
  {
   "cell_type": "markdown",
   "metadata": {},
   "source": [
    "#### Top 10 Most Played Games of the 2021-22 Season:\n",
    "Only Deni Avdija, Saddiq Bey, Mikal Bridges, Kevon Looney, and Dwight Powell played in every game of the 2021 - 2022 season."
   ]
  },
  {
   "cell_type": "code",
   "execution_count": 8,
   "metadata": {},
   "outputs": [
    {
     "data": {
      "text/html": [
       "<div>\n",
       "<style scoped>\n",
       "    .dataframe tbody tr th:only-of-type {\n",
       "        vertical-align: middle;\n",
       "    }\n",
       "\n",
       "    .dataframe tbody tr th {\n",
       "        vertical-align: top;\n",
       "    }\n",
       "\n",
       "    .dataframe thead th {\n",
       "        text-align: right;\n",
       "    }\n",
       "</style>\n",
       "<table border=\"1\" class=\"dataframe\">\n",
       "  <thead>\n",
       "    <tr style=\"text-align: right;\">\n",
       "      <th></th>\n",
       "      <th>Player</th>\n",
       "      <th>G</th>\n",
       "    </tr>\n",
       "  </thead>\n",
       "  <tbody>\n",
       "    <tr>\n",
       "      <th>25</th>\n",
       "      <td>Deni Avdija</td>\n",
       "      <td>82</td>\n",
       "    </tr>\n",
       "    <tr>\n",
       "      <th>58</th>\n",
       "      <td>Saddiq Bey</td>\n",
       "      <td>82</td>\n",
       "    </tr>\n",
       "    <tr>\n",
       "      <th>77</th>\n",
       "      <td>Mikal Bridges</td>\n",
       "      <td>82</td>\n",
       "    </tr>\n",
       "    <tr>\n",
       "      <th>455</th>\n",
       "      <td>Kevon Looney</td>\n",
       "      <td>82</td>\n",
       "    </tr>\n",
       "    <tr>\n",
       "      <th>605</th>\n",
       "      <td>Dwight Powell</td>\n",
       "      <td>82</td>\n",
       "    </tr>\n",
       "    <tr>\n",
       "      <th>104</th>\n",
       "      <td>Alec Burks</td>\n",
       "      <td>81</td>\n",
       "    </tr>\n",
       "    <tr>\n",
       "      <th>310</th>\n",
       "      <td>Buddy Hield</td>\n",
       "      <td>81</td>\n",
       "    </tr>\n",
       "    <tr>\n",
       "      <th>470</th>\n",
       "      <td>Terance Mann</td>\n",
       "      <td>81</td>\n",
       "    </tr>\n",
       "    <tr>\n",
       "      <th>509</th>\n",
       "      <td>Patty Mills</td>\n",
       "      <td>81</td>\n",
       "    </tr>\n",
       "    <tr>\n",
       "      <th>72</th>\n",
       "      <td>Chris Boucher</td>\n",
       "      <td>80</td>\n",
       "    </tr>\n",
       "  </tbody>\n",
       "</table>\n",
       "</div>"
      ],
      "text/plain": [
       "            Player   G\n",
       "25     Deni Avdija  82\n",
       "58      Saddiq Bey  82\n",
       "77   Mikal Bridges  82\n",
       "455   Kevon Looney  82\n",
       "605  Dwight Powell  82\n",
       "104     Alec Burks  81\n",
       "310    Buddy Hield  81\n",
       "470   Terance Mann  81\n",
       "509    Patty Mills  81\n",
       "72   Chris Boucher  80"
      ]
     },
     "execution_count": 8,
     "metadata": {},
     "output_type": "execute_result"
    }
   ],
   "source": [
    "games_played = regular_season_21[[\"Player\", \"G\"]]\n",
    "games_played.nlargest(10,\"G\")"
   ]
  },
  {
   "cell_type": "markdown",
   "metadata": {},
   "source": [
    "#### Top 10 Most Playoff Games Played of the 2021-22 Season:\n",
    "The Golden State Warriors beat the Boston Celtics in a 4-2 Playoff series. Boston's Jaylen Brown not only played in every playoff game, but also started every game."
   ]
  },
  {
   "cell_type": "code",
   "execution_count": 21,
   "metadata": {},
   "outputs": [
    {
     "data": {
      "text/html": [
       "<div>\n",
       "<style scoped>\n",
       "    .dataframe tbody tr th:only-of-type {\n",
       "        vertical-align: middle;\n",
       "    }\n",
       "\n",
       "    .dataframe tbody tr th {\n",
       "        vertical-align: top;\n",
       "    }\n",
       "\n",
       "    .dataframe thead th {\n",
       "        text-align: right;\n",
       "    }\n",
       "</style>\n",
       "<table border=\"1\" class=\"dataframe\">\n",
       "  <thead>\n",
       "    <tr style=\"text-align: right;\">\n",
       "      <th></th>\n",
       "      <th>Player</th>\n",
       "      <th>G</th>\n",
       "      <th>GS</th>\n",
       "      <th>Tm</th>\n",
       "    </tr>\n",
       "  </thead>\n",
       "  <tbody>\n",
       "    <tr>\n",
       "      <th>32</th>\n",
       "      <td>Jaylen Brown</td>\n",
       "      <td>24</td>\n",
       "      <td>24</td>\n",
       "      <td>BOS</td>\n",
       "    </tr>\n",
       "    <tr>\n",
       "      <th>171</th>\n",
       "      <td>Payton Pritchard</td>\n",
       "      <td>24</td>\n",
       "      <td>0</td>\n",
       "      <td>BOS</td>\n",
       "    </tr>\n",
       "    <tr>\n",
       "      <th>184</th>\n",
       "      <td>Jayson Tatum</td>\n",
       "      <td>24</td>\n",
       "      <td>24</td>\n",
       "      <td>BOS</td>\n",
       "    </tr>\n",
       "    <tr>\n",
       "      <th>209</th>\n",
       "      <td>Grant Williams</td>\n",
       "      <td>24</td>\n",
       "      <td>5</td>\n",
       "      <td>BOS</td>\n",
       "    </tr>\n",
       "    <tr>\n",
       "      <th>96</th>\n",
       "      <td>Al Horford</td>\n",
       "      <td>23</td>\n",
       "      <td>23</td>\n",
       "      <td>BOS</td>\n",
       "    </tr>\n",
       "    <tr>\n",
       "      <th>206</th>\n",
       "      <td>Derrick White</td>\n",
       "      <td>23</td>\n",
       "      <td>3</td>\n",
       "      <td>BOS</td>\n",
       "    </tr>\n",
       "    <tr>\n",
       "      <th>57</th>\n",
       "      <td>Stephen Curry</td>\n",
       "      <td>22</td>\n",
       "      <td>18</td>\n",
       "      <td>GSW</td>\n",
       "    </tr>\n",
       "    <tr>\n",
       "      <th>79</th>\n",
       "      <td>Draymond Green</td>\n",
       "      <td>22</td>\n",
       "      <td>22</td>\n",
       "      <td>GSW</td>\n",
       "    </tr>\n",
       "    <tr>\n",
       "      <th>122</th>\n",
       "      <td>Kevon Looney</td>\n",
       "      <td>22</td>\n",
       "      <td>13</td>\n",
       "      <td>GSW</td>\n",
       "    </tr>\n",
       "    <tr>\n",
       "      <th>166</th>\n",
       "      <td>Jordan Poole</td>\n",
       "      <td>22</td>\n",
       "      <td>5</td>\n",
       "      <td>GSW</td>\n",
       "    </tr>\n",
       "  </tbody>\n",
       "</table>\n",
       "</div>"
      ],
      "text/plain": [
       "               Player   G  GS   Tm\n",
       "32       Jaylen Brown  24  24  BOS\n",
       "171  Payton Pritchard  24   0  BOS\n",
       "184      Jayson Tatum  24  24  BOS\n",
       "209    Grant Williams  24   5  BOS\n",
       "96         Al Horford  23  23  BOS\n",
       "206     Derrick White  23   3  BOS\n",
       "57      Stephen Curry  22  18  GSW\n",
       "79     Draymond Green  22  22  GSW\n",
       "122      Kevon Looney  22  13  GSW\n",
       "166      Jordan Poole  22   5  GSW"
      ]
     },
     "execution_count": 21,
     "metadata": {},
     "output_type": "execute_result"
    }
   ],
   "source": [
    "games_played_playoffs = playoff_season_21[[\"Player\", \"G\", \"GS\", \"Tm\"]]\n",
    "games_played_playoffs.nlargest(10,\"G\")"
   ]
  }
 ],
 "metadata": {
  "kernelspec": {
   "display_name": "base",
   "language": "python",
   "name": "python3"
  },
  "language_info": {
   "codemirror_mode": {
    "name": "ipython",
    "version": 3
   },
   "file_extension": ".py",
   "mimetype": "text/x-python",
   "name": "python",
   "nbconvert_exporter": "python",
   "pygments_lexer": "ipython3",
   "version": "3.8.8"
  },
  "orig_nbformat": 4
 },
 "nbformat": 4,
 "nbformat_minor": 2
}
