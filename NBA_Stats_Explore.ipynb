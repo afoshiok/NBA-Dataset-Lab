{
 "cells": [
  {
   "cell_type": "markdown",
   "metadata": {},
   "source": [
    "# NBA PLAYER STATS: Data Exploration"
   ]
  },
  {
   "cell_type": "markdown",
   "metadata": {},
   "source": [
    "#### Importing necessary modules..."
   ]
  },
  {
   "cell_type": "code",
   "execution_count": 1,
   "metadata": {},
   "outputs": [],
   "source": [
    "import pandas as pd "
   ]
  },
  {
   "cell_type": "markdown",
   "metadata": {},
   "source": [
    "#### Let's take a look at the 2021-2022 Play Stats, starting with the regular season first:"
   ]
  },
  {
   "cell_type": "markdown",
   "metadata": {},
   "source": [
    "This dataset was created by, Kaggle user, Vivo Vinco."
   ]
  },
  {
   "cell_type": "code",
   "execution_count": 3,
   "metadata": {},
   "outputs": [
    {
     "name": "stdout",
     "output_type": "stream",
     "text": [
      "      Rk             Player Pos  Age   Tm   G  GS    MP   FG   FGA  ...  \\\n",
      "0      1   Precious Achiuwa   C   22  TOR  73  28  23.6  3.6   8.3  ...   \n",
      "1      2       Steven Adams   C   28  MEM  76  75  26.3  2.8   5.1  ...   \n",
      "2      3        Bam Adebayo   C   24  MIA  56  56  32.6  7.3  13.0  ...   \n",
      "3      4       Santi Aldama  PF   21  MEM  32   0  11.3  1.7   4.1  ...   \n",
      "4      5  LaMarcus Aldridge   C   36  BRK  47  12  22.3  5.4   9.7  ...   \n",
      "..   ...                ...  ..  ...  ...  ..  ..   ...  ...   ...  ...   \n",
      "807  601     Thaddeus Young  PF   33  TOR  26   0  18.3  2.6   5.5  ...   \n",
      "808  602         Trae Young  PG   23  ATL  76  76  34.9  9.4  20.3  ...   \n",
      "809  603     Omer Yurtseven   C   23  MIA  56  12  12.6  2.3   4.4  ...   \n",
      "810  604        Cody Zeller   C   29  POR  27   0  13.1  1.9   3.3  ...   \n",
      "811  605        Ivica Zubac   C   24  LAC  76  76  24.4  4.1   6.5  ...   \n",
      "\n",
      "       FT%  ORB  DRB   TRB  AST  STL  BLK  TOV   PF   PTS  \n",
      "0    0.595  2.0  4.5   6.5  1.1  0.5  0.6  1.2  2.1   9.1  \n",
      "1    0.543  4.6  5.4  10.0  3.4  0.9  0.8  1.5  2.0   6.9  \n",
      "2    0.753  2.4  7.6  10.1  3.4  1.4  0.8  2.6  3.1  19.1  \n",
      "3    0.625  1.0  1.7   2.7  0.7  0.2  0.3  0.5  1.1   4.1  \n",
      "4    0.873  1.6  3.9   5.5  0.9  0.3  1.0  0.9  1.7  12.9  \n",
      "..     ...  ...  ...   ...  ...  ...  ...  ...  ...   ...  \n",
      "807  0.481  1.5  2.9   4.4  1.7  1.2  0.4  0.8  1.7   6.3  \n",
      "808  0.904  0.7  3.1   3.7  9.7  0.9  0.1  4.0  1.7  28.4  \n",
      "809  0.623  1.5  3.7   5.3  0.9  0.3  0.4  0.7  1.5   5.3  \n",
      "810  0.776  1.9  2.8   4.6  0.8  0.3  0.2  0.7  2.1   5.2  \n",
      "811  0.727  2.9  5.6   8.5  1.6  0.5  1.0  1.5  2.7  10.3  \n",
      "\n",
      "[812 rows x 30 columns]\n"
     ]
    }
   ],
   "source": [
    "regular_season_21 = pd.read_csv(\"./2021-2022 NBA Player Stats - Regular.csv\", delimiter=\";\")\n",
    "print(regular_season_21)"
   ]
  },
  {
   "cell_type": "code",
   "execution_count": 5,
   "metadata": {},
   "outputs": [
    {
     "name": "stdout",
     "output_type": "stream",
     "text": [
      "Index(['Rk', 'Player', 'Pos', 'Age', 'Tm', 'G', 'GS', 'MP', 'FG', 'FGA', 'FG%',\n",
      "       '3P', '3PA', '3P%', '2P', '2PA', '2P%', 'eFG%', 'FT', 'FTA', 'FT%',\n",
      "       'ORB', 'DRB', 'TRB', 'AST', 'STL', 'BLK', 'TOV', 'PF', 'PTS'],\n",
      "      dtype='object')\n"
     ]
    }
   ],
   "source": [
    "print(regular_season_21.columns)"
   ]
  }
 ],
 "metadata": {
  "kernelspec": {
   "display_name": "base",
   "language": "python",
   "name": "python3"
  },
  "language_info": {
   "codemirror_mode": {
    "name": "ipython",
    "version": 3
   },
   "file_extension": ".py",
   "mimetype": "text/x-python",
   "name": "python",
   "nbconvert_exporter": "python",
   "pygments_lexer": "ipython3",
   "version": "3.8.8"
  },
  "orig_nbformat": 4
 },
 "nbformat": 4,
 "nbformat_minor": 2
}
